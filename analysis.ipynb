{
 "cells": [
  {
   "cell_type": "code",
   "execution_count": 16,
   "metadata": {
    "application/vnd.databricks.v1+cell": {
     "inputWidgets": {},
     "nuid": "f29f4480-6678-47e2-b1f8-1d5986a80a6a",
     "showTitle": false,
     "title": ""
    }
   },
   "outputs": [],
   "source": [
    "import os\n",
    "import pandas as pd\n",
    "import numpy as np\n",
    "import seaborn as sns\n",
    "sns.set_theme(style=\"darkgrid\")\n",
    "import matplotlib.pyplot as plt\n",
    "from matplotlib.pyplot import figure\n",
    "from mpl_toolkits.mplot3d import Axes3D\n",
    "import time \n",
    "from scipy import stats\n",
    "from scipy.stats import skew \n",
    "from scipy.stats import norm\n",
    "\n",
    "from sklearn.cluster import KMeans\n",
    "from sklearn import preprocessing\n",
    "from sklearn import metrics\n",
    "from scipy.spatial.distance import cdist\n",
    "from mpl_toolkits import mplot3d\n",
    "\n",
    "import warnings\n",
    "warnings.filterwarnings('ignore')"
   ]
  },
  {
   "cell_type": "code",
   "execution_count": 17,
   "metadata": {
    "application/vnd.databricks.v1+cell": {
     "inputWidgets": {},
     "nuid": "c2d89cfb-879f-4065-9f16-f001c906a082",
     "showTitle": false,
     "title": ""
    }
   },
   "outputs": [],
   "source": [
    "# Data Ingestion\n",
    "raw_data = pd.read_csv('data/RFM.csv')"
   ]
  },
  {
   "cell_type": "markdown",
   "metadata": {
    "application/vnd.databricks.v1+cell": {
     "inputWidgets": {},
     "nuid": "198ddf5e-3586-4b91-8c28-0be3a44789f7",
     "showTitle": false,
     "title": ""
    }
   },
   "source": [
    "# EDA"
   ]
  },
  {
   "cell_type": "code",
   "execution_count": 18,
   "metadata": {
    "application/vnd.databricks.v1+cell": {
     "inputWidgets": {},
     "nuid": "1ebed3e8-82c2-4bf9-8efa-f1ac79d65ee7",
     "showTitle": false,
     "title": ""
    }
   },
   "outputs": [],
   "source": [
    "dataset = raw_data.copy()"
   ]
  },
  {
   "cell_type": "code",
   "execution_count": 19,
   "metadata": {
    "application/vnd.databricks.v1+cell": {
     "inputWidgets": {},
     "nuid": "8cffdc2f-fe58-48ad-9424-e40afdea49a6",
     "showTitle": false,
     "title": ""
    }
   },
   "outputs": [
    {
     "data": {
      "text/plain": "        Recency  Frequency  Monetary\n0            39          2      4550\n1             3          4      4256\n2            78          1      2000\n3             3          2      2695\n4             2          2      7913\n...         ...        ...       ...\n388902       85          1      1149\n388903       27          3      3290\n388904       29          8      4328\n388905       10         20     11729\n388906       66         10      2103\n\n[388907 rows x 3 columns]",
      "text/html": "<div>\n<style scoped>\n    .dataframe tbody tr th:only-of-type {\n        vertical-align: middle;\n    }\n\n    .dataframe tbody tr th {\n        vertical-align: top;\n    }\n\n    .dataframe thead th {\n        text-align: right;\n    }\n</style>\n<table border=\"1\" class=\"dataframe\">\n  <thead>\n    <tr style=\"text-align: right;\">\n      <th></th>\n      <th>Recency</th>\n      <th>Frequency</th>\n      <th>Monetary</th>\n    </tr>\n  </thead>\n  <tbody>\n    <tr>\n      <th>0</th>\n      <td>39</td>\n      <td>2</td>\n      <td>4550</td>\n    </tr>\n    <tr>\n      <th>1</th>\n      <td>3</td>\n      <td>4</td>\n      <td>4256</td>\n    </tr>\n    <tr>\n      <th>2</th>\n      <td>78</td>\n      <td>1</td>\n      <td>2000</td>\n    </tr>\n    <tr>\n      <th>3</th>\n      <td>3</td>\n      <td>2</td>\n      <td>2695</td>\n    </tr>\n    <tr>\n      <th>4</th>\n      <td>2</td>\n      <td>2</td>\n      <td>7913</td>\n    </tr>\n    <tr>\n      <th>...</th>\n      <td>...</td>\n      <td>...</td>\n      <td>...</td>\n    </tr>\n    <tr>\n      <th>388902</th>\n      <td>85</td>\n      <td>1</td>\n      <td>1149</td>\n    </tr>\n    <tr>\n      <th>388903</th>\n      <td>27</td>\n      <td>3</td>\n      <td>3290</td>\n    </tr>\n    <tr>\n      <th>388904</th>\n      <td>29</td>\n      <td>8</td>\n      <td>4328</td>\n    </tr>\n    <tr>\n      <th>388905</th>\n      <td>10</td>\n      <td>20</td>\n      <td>11729</td>\n    </tr>\n    <tr>\n      <th>388906</th>\n      <td>66</td>\n      <td>10</td>\n      <td>2103</td>\n    </tr>\n  </tbody>\n</table>\n<p>388907 rows × 3 columns</p>\n</div>"
     },
     "execution_count": 19,
     "metadata": {},
     "output_type": "execute_result"
    }
   ],
   "source": [
    "dataset"
   ]
  },
  {
   "cell_type": "markdown",
   "metadata": {
    "application/vnd.databricks.v1+cell": {
     "inputWidgets": {},
     "nuid": "9ef28c84-1ab0-4c9f-8c92-ed74e5c127c1",
     "showTitle": false,
     "title": ""
    }
   },
   "source": [
    "\n",
    "### Raw Data Distribution"
   ]
  },
  {
   "cell_type": "code",
   "execution_count": 20,
   "metadata": {
    "application/vnd.databricks.v1+cell": {
     "inputWidgets": {},
     "nuid": "3c59fda7-1c08-48fa-b3f8-0ae86a2f1a43",
     "showTitle": false,
     "title": ""
    },
    "scrolled": true
   },
   "outputs": [
    {
     "data": {
      "text/plain": "             Recency      Frequency       Monetary\ncount  388907.000000  388907.000000  388907.000000\nmean       30.996868       7.128954    3864.139308\nstd        23.493806       7.263205    2968.631476\nmin         0.000000       1.000000     100.000000\n25%        10.000000       3.000000    1700.000000\n50%        29.000000       5.000000    3110.000000\n75%        46.000000       9.000000    5357.000000\nmax        86.000000     100.000000  111017.000000",
      "text/html": "<div>\n<style scoped>\n    .dataframe tbody tr th:only-of-type {\n        vertical-align: middle;\n    }\n\n    .dataframe tbody tr th {\n        vertical-align: top;\n    }\n\n    .dataframe thead th {\n        text-align: right;\n    }\n</style>\n<table border=\"1\" class=\"dataframe\">\n  <thead>\n    <tr style=\"text-align: right;\">\n      <th></th>\n      <th>Recency</th>\n      <th>Frequency</th>\n      <th>Monetary</th>\n    </tr>\n  </thead>\n  <tbody>\n    <tr>\n      <th>count</th>\n      <td>388907.000000</td>\n      <td>388907.000000</td>\n      <td>388907.000000</td>\n    </tr>\n    <tr>\n      <th>mean</th>\n      <td>30.996868</td>\n      <td>7.128954</td>\n      <td>3864.139308</td>\n    </tr>\n    <tr>\n      <th>std</th>\n      <td>23.493806</td>\n      <td>7.263205</td>\n      <td>2968.631476</td>\n    </tr>\n    <tr>\n      <th>min</th>\n      <td>0.000000</td>\n      <td>1.000000</td>\n      <td>100.000000</td>\n    </tr>\n    <tr>\n      <th>25%</th>\n      <td>10.000000</td>\n      <td>3.000000</td>\n      <td>1700.000000</td>\n    </tr>\n    <tr>\n      <th>50%</th>\n      <td>29.000000</td>\n      <td>5.000000</td>\n      <td>3110.000000</td>\n    </tr>\n    <tr>\n      <th>75%</th>\n      <td>46.000000</td>\n      <td>9.000000</td>\n      <td>5357.000000</td>\n    </tr>\n    <tr>\n      <th>max</th>\n      <td>86.000000</td>\n      <td>100.000000</td>\n      <td>111017.000000</td>\n    </tr>\n  </tbody>\n</table>\n</div>"
     },
     "execution_count": 20,
     "metadata": {},
     "output_type": "execute_result"
    }
   ],
   "source": [
    "dataset.describe()"
   ]
  },
  {
   "cell_type": "code",
   "execution_count": 21,
   "metadata": {
    "application/vnd.databricks.v1+cell": {
     "inputWidgets": {},
     "nuid": "b3a043c7-cb07-4d57-8a8d-f98056a1e17a",
     "showTitle": false,
     "title": ""
    }
   },
   "outputs": [],
   "source": [
    "def print_hist(data,special=\"\"):\n",
    "    fig, axs = plt.subplots(1,3,figsize=(15,5))\n",
    "    col = ['Recency','Frequency','Monetary']\n",
    "    color = ['tab:blue','red','orange']\n",
    "    for i in range(3):\n",
    "        name = special+str(col[i])\n",
    "        axs[i].hist(data[name],bins=50,color=color[i])\n",
    "        axs[i].set_title(name)\n",
    "    fig.tight_layout()"
   ]
  },
  {
   "cell_type": "code",
   "execution_count": 22,
   "metadata": {
    "application/vnd.databricks.v1+cell": {
     "inputWidgets": {},
     "nuid": "f2fac85d-4d42-4977-ab42-48df8e1d64f4",
     "showTitle": false,
     "title": ""
    },
    "scrolled": true
   },
   "outputs": [
    {
     "data": {
      "text/plain": "<Figure size 1080x360 with 3 Axes>",
      "image/png": "[encoded data removed]"
     },
     "metadata": {},
     "output_type": "display_data"
    }
   ],
   "source": [
    "print_hist(dataset,\"\")"
   ]
  },
  {
   "cell_type": "code",
   "execution_count": 23,
   "metadata": {
    "application/vnd.databricks.v1+cell": {
     "inputWidgets": {},
     "nuid": "bc7b12d6-6258-4de4-b675-68e35277d2d7",
     "showTitle": false,
     "title": ""
    }
   },
   "outputs": [],
   "source": [
    "def print_boxplot(data,special=\"\"):\n",
    "    fig, axs = plt.subplots(3,1,figsize=(12,5))\n",
    "    col = ['Recency','Frequency','Monetary']\n",
    "    color = ['tab:blue','red','orange']\n",
    "    for i in range(3):\n",
    "        sns.boxplot(x=col[i],data=data,ax=axs[i],color=color[i])\n",
    "    fig.tight_layout()"
   ]
  },
  {
   "cell_type": "code",
   "execution_count": 24,
   "metadata": {
    "application/vnd.databricks.v1+cell": {
     "inputWidgets": {},
     "nuid": "466e0f7d-6853-44cc-a6a8-c04eb5efc917",
     "showTitle": false,
     "title": ""
    }
   },
   "outputs": [
    {
     "data": {
      "text/plain": "<Figure size 864x360 with 3 Axes>",
      "image/png": "[encoded data removed]"
     },
     "metadata": {},
     "output_type": "display_data"
    }
   ],
   "source": [
    "print_boxplot(dataset,\"\")"
   ]
  },
  {
   "cell_type": "markdown",
   "metadata": {
    "application/vnd.databricks.v1+cell": {
     "inputWidgets": {},
     "nuid": "dfd3a97f-731d-4b24-ada8-f568ac4beb61",
     "showTitle": false,
     "title": ""
    }
   },
   "source": [
    "### Drop Outliers"
   ]
  },
  {
   "cell_type": "code",
   "execution_count": 25,
   "metadata": {
    "application/vnd.databricks.v1+cell": {
     "inputWidgets": {},
     "nuid": "c9000513-e412-4754-831d-5026ccc97422",
     "showTitle": false,
     "title": ""
    }
   },
   "outputs": [],
   "source": [
    "def detect_outlier(data):\n",
    "    outliers = []\n",
    "    threshold= 3\n",
    "    mean = np.mean(data)\n",
    "    std =np.std(data)\n",
    "    return min([y for y in data if np.abs( (y-mean) / std ) > threshold], default=1e18)"
   ]
  },
  {
   "cell_type": "code",
   "execution_count": 26,
   "metadata": {
    "application/vnd.databricks.v1+cell": {
     "inputWidgets": {},
     "nuid": "2cf940ce-8b79-4c43-b6af-a1f7d52aecef",
     "showTitle": false,
     "title": ""
    },
    "scrolled": true
   },
   "outputs": [
    {
     "name": "stdout",
     "output_type": "stream",
     "text": [
      "Outliers Lower Limit\n"
     ]
    },
    {
     "data": {
      "text/plain": "{'Frequency': 29, 'Monetary': 12771, 'Recency': 1e+18}"
     },
     "execution_count": 26,
     "metadata": {},
     "output_type": "execute_result"
    }
   ],
   "source": [
    "outlier_limits = {c:detect_outlier(dataset[c]) for c in dataset.columns}\n",
    "print('Outliers Lower Limit')\n",
    "outlier_limits"
   ]
  },
  {
   "cell_type": "code",
   "execution_count": 27,
   "metadata": {
    "application/vnd.databricks.v1+cell": {
     "inputWidgets": {},
     "nuid": "8196478a-8a13-4400-855d-0d13acb0cd41",
     "showTitle": false,
     "title": ""
    }
   },
   "outputs": [],
   "source": [
    "dataset_outlier = dataset[(dataset['Recency']>=outlier_limits['Recency'])\n",
    "                        |(dataset['Frequency']>=outlier_limits['Frequency'])\n",
    "                        |(dataset['Monetary']>=outlier_limits['Monetary'])]"
   ]
  },
  {
   "cell_type": "code",
   "execution_count": 28,
   "metadata": {
    "application/vnd.databricks.v1+cell": {
     "inputWidgets": {},
     "nuid": "cc38030c-c1e6-4f8a-b7ed-b7e290ed37d4",
     "showTitle": false,
     "title": ""
    }
   },
   "outputs": [],
   "source": [
    "#Drop Outliers\n",
    "dataset.drop(dataset_outlier.index,inplace=True)\n",
    "dataset.reset_index(inplace=True,drop=True)"
   ]
  },
  {
   "cell_type": "markdown",
   "metadata": {
    "application/vnd.databricks.v1+cell": {
     "inputWidgets": {},
     "nuid": "d6df6794-d8e4-44ee-8714-6fdc8d137ed1",
     "showTitle": false,
     "title": ""
    }
   },
   "source": [
    "### Data distribution after dropping outliers"
   ]
  },
  {
   "cell_type": "code",
   "execution_count": 29,
   "metadata": {
    "application/vnd.databricks.v1+cell": {
     "inputWidgets": {},
     "nuid": "bb3bcb45-e1b7-4f74-a16d-d1a88bc42427",
     "showTitle": false,
     "title": ""
    }
   },
   "outputs": [
    {
     "data": {
      "text/plain": "<Figure size 1080x360 with 3 Axes>",
      "image/png": "[encoded data removed]"
     },
     "metadata": {},
     "output_type": "display_data"
    }
   ],
   "source": [
    "print_hist(dataset,\"\")"
   ]
  },
  {
   "cell_type": "code",
   "execution_count": 30,
   "metadata": {
    "application/vnd.databricks.v1+cell": {
     "inputWidgets": {},
     "nuid": "62fa93e1-2b70-4c9e-a3bc-35163e141d08",
     "showTitle": false,
     "title": ""
    },
    "scrolled": false
   },
   "outputs": [
    {
     "data": {
      "text/plain": "<Figure size 864x360 with 3 Axes>",
      "image/png": "[encoded data removed]"
     },
     "metadata": {},
     "output_type": "display_data"
    }
   ],
   "source": [
    "print_boxplot(dataset,\"\")"
   ]
  },
  {
   "cell_type": "code",
   "execution_count": 31,
   "metadata": {
    "application/vnd.databricks.v1+cell": {
     "inputWidgets": {},
     "nuid": "320eb92d-93ec-4391-bea3-a4b77b2d4340",
     "showTitle": false,
     "title": ""
    }
   },
   "outputs": [],
   "source": [
    "#dataset['Monetary'] = (dataset['Monetary'] / (5*1e5)).apply(np.ceil) * 5*1e5"
   ]
  },
  {
   "cell_type": "markdown",
   "metadata": {
    "application/vnd.databricks.v1+cell": {
     "inputWidgets": {},
     "nuid": "53d7e4e5-5d85-4f2b-9a07-9050ac7fa316",
     "showTitle": false,
     "title": ""
    }
   },
   "source": [
    "### Correlation between variables"
   ]
  },
  {
   "cell_type": "code",
   "execution_count": 32,
   "metadata": {
    "application/vnd.databricks.v1+cell": {
     "inputWidgets": {},
     "nuid": "e95dfb4a-ce29-4d34-9ce4-f921c95cf046",
     "showTitle": false,
     "title": ""
    },
    "scrolled": false
   },
   "outputs": [
    {
     "data": {
      "text/plain": "<AxesSubplot:>"
     },
     "execution_count": 32,
     "metadata": {},
     "output_type": "execute_result"
    },
    {
     "data": {
      "text/plain": "<Figure size 576x576 with 2 Axes>",
      "image/png": "[encoded data removed]"
     },
     "metadata": {},
     "output_type": "display_data"
    }
   ],
   "source": [
    "correlation_matrix = dataset.corr()\n",
    "plt.figure(figsize=(8,8),facecolor='white')\n",
    "sns.heatmap(correlation_matrix,square=True,annot=True,cmap=\"RdYlGn\")"
   ]
  },
  {
   "cell_type": "markdown",
   "metadata": {
    "application/vnd.databricks.v1+cell": {
     "inputWidgets": {},
     "nuid": "20423193-a953-43c0-8b5b-e37e4e3c4407",
     "showTitle": false,
     "title": ""
    }
   },
   "source": [
    "### Normalizing data"
   ]
  },
  {
   "cell_type": "code",
   "execution_count": 33,
   "metadata": {
    "application/vnd.databricks.v1+cell": {
     "inputWidgets": {},
     "nuid": "3d97764e-8b60-4b0f-aa8f-b74da39fd064",
     "showTitle": false,
     "title": ""
    }
   },
   "outputs": [],
   "source": [
    "def normalize_data(data, columns):\n",
    "    scaler = preprocessing.MinMaxScaler()\n",
    "    d = scaler.fit_transform(data[columns])\n",
    "    scaled_df = pd.DataFrame(d, columns=columns)\n",
    "    for c in columns :\n",
    "        data['Norm'+c] = scaled_df[c]"
   ]
  },
  {
   "cell_type": "markdown",
   "metadata": {
    "application/vnd.databricks.v1+cell": {
     "inputWidgets": {},
     "nuid": "943aa597-9cdd-4209-a0c1-5222f9bc3068",
     "showTitle": false,
     "title": ""
    }
   },
   "source": [
    "### Elbow Method"
   ]
  },
  {
   "cell_type": "code",
   "execution_count": 34,
   "metadata": {
    "application/vnd.databricks.v1+cell": {
     "inputWidgets": {},
     "nuid": "425eb4d6-8dce-4f30-91ee-b0ee5af7902f",
     "showTitle": false,
     "title": ""
    }
   },
   "outputs": [],
   "source": [
    "def elbow_method(data, columns):\n",
    "    distortions = []\n",
    "    inertias = []\n",
    "    mapping1 = {}\n",
    "    mapping2 = {}\n",
    "    data_em = data[columns]\n",
    "    K = range(1, 10)\n",
    " \n",
    "    for k in K:\n",
    "        # Building and fitting the model\n",
    "        kmeanModel = KMeans(n_clusters=k).fit(data_em)\n",
    "        kmeanModel.fit(data_em)\n",
    "     \n",
    "        distortions.append(sum(np.min(cdist(data_em, kmeanModel.cluster_centers_,\n",
    "                                            'euclidean'), axis=1)) / data_em.shape[0])\n",
    "        inertias.append(kmeanModel.inertia_)\n",
    " \n",
    "        mapping1[k] = sum(np.min(cdist(data_em, kmeanModel.cluster_centers_,\n",
    "                                       'euclidean'), axis=1)) / data_em.shape[0]\n",
    "        mapping2[k] = kmeanModel.inertia_\n",
    "        \n",
    "    for key, val in mapping1.items():\n",
    "        print(f'{key} : {val}')\n",
    "        \n",
    "    plt.plot(K, distortions, 'bx-')\n",
    "    plt.xlabel('Values of K')\n",
    "    plt.ylabel('Distortion')\n",
    "    plt.title('The Elbow Method using Distortion')\n",
    "    plt.show()\n",
    "    \n",
    "    for key, val in mapping2.items():\n",
    "        print(f'{key} : {val}')\n",
    "    \n",
    "    plt.plot(K, inertias, 'bx-')\n",
    "    plt.xlabel('Values of K')\n",
    "    plt.ylabel('Inertia')\n",
    "    plt.title('The Elbow Method using Inertia')\n",
    "    plt.show()"
   ]
  },
  {
   "cell_type": "markdown",
   "metadata": {
    "application/vnd.databricks.v1+cell": {
     "inputWidgets": {},
     "nuid": "63d95db7-2f79-4213-9bb5-71a906f63a15",
     "showTitle": false,
     "title": ""
    }
   },
   "source": [
    "# KMeans"
   ]
  },
  {
   "cell_type": "code",
   "execution_count": 35,
   "metadata": {
    "application/vnd.databricks.v1+cell": {
     "inputWidgets": {},
     "nuid": "decfc6b6-cd25-4f1d-b64a-19b0a100ef3c",
     "showTitle": false,
     "title": ""
    }
   },
   "outputs": [],
   "source": [
    "def kmeans_(data,n,col):\n",
    "    #initiliaze model\n",
    "    kmeans = KMeans(n_clusters=n,random_state=123,max_iter=800,n_init=30,algorithm='full')\n",
    "    #fitting\n",
    "    data['Cluster'] = kmeans.fit_predict(data[col])"
   ]
  },
  {
   "cell_type": "code",
   "execution_count": 36,
   "metadata": {
    "application/vnd.databricks.v1+cell": {
     "inputWidgets": {},
     "nuid": "e0e21542-ad17-427d-ab5e-08bc7ff5faaf",
     "showTitle": false,
     "title": ""
    }
   },
   "outputs": [],
   "source": [
    "def plot_2d(data,col):\n",
    "    fig, axs = plt.subplots(3,3,figsize=(12,12))\n",
    "    for i in range(3):\n",
    "        for j in range(3):\n",
    "            axs[i, j].scatter(data[col[i]],data[col[j]],c=data['Cluster'],cmap='viridis',s=5)\n",
    "            axs[i, j].set_xlabel(col[i])\n",
    "            axs[i, j].set_ylabel(col[j])\n",
    "    fig.tight_layout()  "
   ]
  },
  {
   "cell_type": "code",
   "execution_count": 37,
   "metadata": {
    "application/vnd.databricks.v1+cell": {
     "inputWidgets": {},
     "nuid": "c5cfb37c-4e9e-4604-9353-542cfc9375a8",
     "showTitle": false,
     "title": ""
    }
   },
   "outputs": [],
   "source": [
    "def plot_3d(data,col):\n",
    "    fig = plt.figure(figsize=(15,8))\n",
    "    ax = fig.add_subplot(111, projection='3d') \n",
    "    # plot points\n",
    "    ax.scatter(data[col[0]],\n",
    "                data[col[1]],\n",
    "                data[col[2]], \n",
    "                c=data[\"Cluster\"],\n",
    "                cmap='viridis',\n",
    "                s=5,\n",
    "                alpha=1)\n",
    "    ax.view_init()\n",
    "    plt.xlabel(col[0])\n",
    "    plt.ylabel(col[1])\n",
    "    ax.set_zlabel(col[2])\n",
    "    plt.show()"
   ]
  },
  {
   "cell_type": "code",
   "execution_count": 38,
   "metadata": {
    "application/vnd.databricks.v1+cell": {
     "inputWidgets": {},
     "nuid": "ce167054-8445-4bbf-a123-14e255e213b1",
     "showTitle": false,
     "title": ""
    }
   },
   "outputs": [],
   "source": [
    "data_rfm = dataset.copy()"
   ]
  },
  {
   "cell_type": "code",
   "execution_count": 39,
   "metadata": {
    "application/vnd.databricks.v1+cell": {
     "inputWidgets": {},
     "nuid": "2cbfa85a-f3cd-482c-86ec-5860a5c98711",
     "showTitle": false,
     "title": ""
    }
   },
   "outputs": [],
   "source": [
    "normalize_data(data_rfm,['Recency','Frequency','Monetary'])"
   ]
  },
  {
   "cell_type": "code",
   "execution_count": null,
   "metadata": {
    "application/vnd.databricks.v1+cell": {
     "inputWidgets": {},
     "nuid": "dcfe02f6-4fb1-4697-b5b5-1a8ef78ecb0f",
     "showTitle": false,
     "title": ""
    },
    "pycharm": {
     "is_executing": true
    }
   },
   "outputs": [],
   "source": [
    "elbow_method(data_rfm,['NormRecency','NormFrequency','NormMonetary'])"
   ]
  },
  {
   "cell_type": "code",
   "execution_count": null,
   "metadata": {
    "application/vnd.databricks.v1+cell": {
     "inputWidgets": {},
     "nuid": "f2d07d8d-569b-48ca-a2c7-baf132959306",
     "showTitle": false,
     "title": ""
    },
    "pycharm": {
     "is_executing": true
    }
   },
   "outputs": [],
   "source": [
    "kmeans_(data_rfm,4,['NormRecency','NormFrequency','NormMonetary'])"
   ]
  },
  {
   "cell_type": "code",
   "execution_count": null,
   "metadata": {
    "application/vnd.databricks.v1+cell": {
     "inputWidgets": {},
     "nuid": "888c0037-ec70-46cd-9fc4-808b6527ec8d",
     "showTitle": false,
     "title": ""
    },
    "pycharm": {
     "is_executing": true
    }
   },
   "outputs": [],
   "source": [
    "rst = data_rfm.groupby('Cluster').agg({'Recency':['min','max','mean'],\n",
    "                                'Frequency':['min','max','mean'],\n",
    "                                'Monetary':['min','max','mean'],\n",
    "                                'NormRecency':['min','max'],\n",
    "                                'NormFrequency':['min','max'],\n",
    "                                'NormMonetary':['min','max','size']})\n",
    "rst"
   ]
  },
  {
   "cell_type": "code",
   "execution_count": null,
   "metadata": {
    "application/vnd.databricks.v1+cell": {
     "inputWidgets": {},
     "nuid": "f0c5520a-b47b-4c31-84f2-5a7771026c61",
     "showTitle": false,
     "title": ""
    },
    "pycharm": {
     "is_executing": true
    }
   },
   "outputs": [],
   "source": [
    "data_sample = data_rfm.sample(int(data_rfm.shape[0]*0.1))"
   ]
  },
  {
   "cell_type": "code",
   "execution_count": null,
   "metadata": {
    "application/vnd.databricks.v1+cell": {
     "inputWidgets": {},
     "nuid": "fd88cbeb-99d0-440e-9fb0-82c9c447ca6f",
     "showTitle": false,
     "title": ""
    },
    "pycharm": {
     "is_executing": true
    }
   },
   "outputs": [],
   "source": [
    "plot_2d(data_sample,['Recency','Frequency','Monetary'])"
   ]
  },
  {
   "cell_type": "code",
   "execution_count": null,
   "metadata": {
    "application/vnd.databricks.v1+cell": {
     "inputWidgets": {},
     "nuid": "77796c8b-4465-4bda-bbc9-f848a7387b6d",
     "showTitle": false,
     "title": ""
    },
    "scrolled": false,
    "pycharm": {
     "is_executing": true
    }
   },
   "outputs": [],
   "source": [
    "plot_3d(data_sample,['Recency','Frequency','Monetary'])"
   ]
  },
  {
   "cell_type": "code",
   "execution_count": null,
   "metadata": {
    "pycharm": {
     "is_executing": true
    }
   },
   "outputs": [],
   "source": []
  }
 ],
 "metadata": {
  "application/vnd.databricks.v1+notebook": {
   "dashboards": [],
   "language": "python",
   "notebookMetadata": {
    "pythonIndentUnit": 2
   },
   "notebookName": "analysis",
   "notebookOrigID": 2720353211665087,
   "widgets": {}
  },
  "kernelspec": {
   "display_name": "Python 3",
   "language": "python",
   "name": "python3"
  },
  "language_info": {
   "codemirror_mode": {
    "name": "ipython",
    "version": 3
   },
   "file_extension": ".py",
   "mimetype": "text/x-python",
   "name": "python",
   "nbconvert_exporter": "python",
   "pygments_lexer": "ipython3",
   "version": "3.7.2"
  }
 },
 "nbformat": 4,
 "nbformat_minor": 1
}